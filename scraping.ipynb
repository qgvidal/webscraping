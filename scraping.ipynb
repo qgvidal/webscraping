{
 "cells": [
  {
   "cell_type": "markdown",
   "metadata": {},
   "source": [
    "# SCRAPING FOR CREATING A NLP MOVIES DATASET"
   ]
  },
  {
   "cell_type": "markdown",
   "metadata": {},
   "source": [
    "Scraping are a group of techniques used for extracting data directly from a web by going through de HTML and CSS code. In this exercise we will extract data from https://www.moviehousememories.com/movie-summaries/ which is a website where you can find relatively extense movies summaries. The idea is creating a rich enough dataset for making future, for example, NLP projects.  "
   ]
  },
  {
   "cell_type": "markdown",
   "metadata": {},
   "source": [
    "For this purpose, we are going to use Selenium library, which is a python package that was creating at the beggining for testing and interact with websites in an autonomous way.\n",
    "\n",
    "Also, we will use Firefox web browser, so we are going to use geckodriver firefox driver in order to interact with the pages.\n",
    "\n",
    "First thing we have to do, as always, is importing libraries we will use during the exercise:"
   ]
  },
  {
   "cell_type": "code",
   "execution_count": 1,
   "metadata": {},
   "outputs": [],
   "source": [
    "from selenium.webdriver.firefox.options import Options\n",
    "from selenium import webdriver\n",
    "import pandas as pd\n",
    "import json\n",
    "from gensim.models.doc2vec import Doc2Vec, TaggedDocument\n",
    "from tqdm import tqdm"
   ]
  },
  {
   "cell_type": "code",
   "execution_count": 2,
   "metadata": {},
   "outputs": [],
   "source": [
    "conteos = 100\n",
    "\n",
    "options = Options()\n",
    "options.headless = True"
   ]
  },
  {
   "cell_type": "markdown",
   "metadata": {},
   "source": [
    "Once the libraries have been imported, we will create a first dataset with the title and the url for extracting each summary for each movie.\n",
    "\n",
    "As you see in the code below, first for loop will extract all movies html elements. Then we will run the second for loop, where we will extract the title and the movie url, creating after that the movies url dataset"
   ]
  },
  {
   "cell_type": "code",
   "execution_count": 3,
   "metadata": {},
   "outputs": [
    {
     "name": "stderr",
     "output_type": "stream",
     "text": [
      "100%|██████████| 100/100 [00:34<00:00,  2.01it/s]\n",
      "100%|██████████| 892/892 [00:26<00:00, 33.15it/s]\n"
     ]
    }
   ],
   "source": [
    "driver = webdriver.Firefox(executable_path= './drivers/geckodriver', options=options)\n",
    "driver.get(\"https://www.moviehousememories.com/movie-summaries/\") \n",
    "\n",
    "for x in tqdm(range(0,conteos)):\n",
    "    i = True\n",
    "    iteracion = 0\n",
    "    boton = None\n",
    "    while i and iteracion < 100:\n",
    "        try:\n",
    "            boton = driver.find_element_by_xpath('//a[@class=\"block-pagination next-posts show-more-button load-more-button\"]')\n",
    "            if boton != None:\n",
    "                driver.execute_script(\"arguments[0].scrollIntoView(false);\",boton)\n",
    "                boton.click()\n",
    "                break\n",
    "            else: \n",
    "                iteracion = iteracion + 1\n",
    "        except:\n",
    "            iteracion = iteracion + 1\n",
    "\n",
    "#Extract movies URL\n",
    "listado_peliculas = driver.find_elements_by_xpath('//h2[@class=\"post-title\"]')\n",
    "\n",
    "url_peliculas = []\n",
    "titulo = []\n",
    "if len(listado_peliculas) != 0:\n",
    "    for pelicula in tqdm(listado_peliculas):\n",
    "        movie = pelicula.find_element_by_tag_name(\"a\")\n",
    "        titulo.append(pelicula.text)\n",
    "        url_peliculas.append(movie.get_attribute(\"href\"))\n",
    "\n",
    "dataset_movies = pd.DataFrame({\"Title\":titulo, \"url\":url_peliculas})\n",
    "dataset_movies.to_excel('./recommenderFiles/movies.xlsx', index=False)\n",
    "driver.close()\n",
    "driver.stop_client()"
   ]
  },
  {
   "cell_type": "markdown",
   "metadata": {},
   "source": [
    "Once the movies url dataset is created, is time to visit each url stored in it for getting the summaries and save all of them in a txt file with the structure: title, url, summary"
   ]
  },
  {
   "cell_type": "code",
   "execution_count": 4,
   "metadata": {
    "scrolled": true
   },
   "outputs": [
    {
     "name": "stderr",
     "output_type": "stream",
     "text": [
      "100%|██████████| 892/892 [45:24<00:00,  2.04s/it]  \n"
     ]
    }
   ],
   "source": [
    "#SCRAPER MOVIES: \n",
    "\n",
    "dataset_movies = pd.read_excel('./recommenderFiles/movies.xlsx')\n",
    "driver = webdriver.Firefox(executable_path= './drivers/geckodriver', options=options)\n",
    "\n",
    "count = 0\n",
    "for x in tqdm(range(len(dataset_movies))):\n",
    "    \n",
    "    if count >= 400: #AVOID WEB TIMEOUT\n",
    "        count = 0\n",
    "        driver.close()\n",
    "        driver.stop_client()\n",
    "        driver = webdriver.Firefox(executable_path= './drivers/geckodriver', options=options)\n",
    "        \n",
    "    count = count + 1\n",
    "        \n",
    "    try:\n",
    "        url = dataset_movies[\"url\"][x]\n",
    "        driver.get(url)\n",
    "        title = dataset_movies[\"Title\"][x]\n",
    "        text_summary = driver.find_element_by_xpath(\"//div[@id='main-content-row']\").text\n",
    "        text_summary = text_summary.replace(\"Film and Plot Synopsis\", \"\").replace(\"The summary below contains spoilers.\",\"\")\n",
    "        posicion = text_summary.find(\"Additional Film Information\")   \n",
    "        text_summary = text_summary[:posicion] \n",
    "    except:\n",
    "        title = \"\"\n",
    "        url = \"\"\n",
    "        continue\n",
    "    \n",
    "    dictionary_movie = {\"Title\":title,\"url\":url,\"summary\":text_summary}\n",
    "    with open(\"./recommenderFiles/movies_house_memories.txt\", 'a',encoding='utf-8') as json_file:\n",
    "        # convert from Python dict-like structure to JSON format\n",
    "        jsoned_data = json.dumps(dictionary_movie,ensure_ascii=False)\n",
    "        json_file.write(jsoned_data)\n",
    "        json_file.write('\\n')"
   ]
  },
  {
   "cell_type": "markdown",
   "metadata": {},
   "source": [
    "Finally, we can import saved data and see the final result of our dataset:"
   ]
  },
  {
   "cell_type": "code",
   "execution_count": 5,
   "metadata": {},
   "outputs": [],
   "source": [
    "data = []\n",
    "with open(\"./recommenderFiles/movies_house_memories.txt\", 'r', encoding='utf-8') as f:\n",
    "    for line in f:\n",
    "        data.append(json.loads(line))\n",
    "\n",
    "movies_dataset = pd.DataFrame.from_records(data)   \n",
    "\n",
    "lista_resumen = []\n",
    "for i in range(0,len(movies_dataset)):\n",
    "    detecta_additional = movies_dataset[\"summary\"][i].find(\"Additional Film\")\n",
    "    if detecta_additional != -1:\n",
    "        summary = movies_dataset[\"summary\"][i][:detecta_additional]\n",
    "        lista_resumen.append(summary.replace(\"\\n\",\"\"))\n",
    "        \n",
    "    else:\n",
    "        lista_resumen.append(movies_dataset[\"summary\"][i])\n",
    "\n",
    "movies_dataset = movies_dataset.drop(columns=\"summary\", axis = 1)\n",
    "movies_dataset.insert(len(movies_dataset.columns),\"summary\",lista_resumen)"
   ]
  },
  {
   "cell_type": "code",
   "execution_count": 6,
   "metadata": {},
   "outputs": [
    {
     "data": {
      "text/html": [
       "<div>\n",
       "<style scoped>\n",
       "    .dataframe tbody tr th:only-of-type {\n",
       "        vertical-align: middle;\n",
       "    }\n",
       "\n",
       "    .dataframe tbody tr th {\n",
       "        vertical-align: top;\n",
       "    }\n",
       "\n",
       "    .dataframe thead th {\n",
       "        text-align: right;\n",
       "    }\n",
       "</style>\n",
       "<table border=\"1\" class=\"dataframe\">\n",
       "  <thead>\n",
       "    <tr style=\"text-align: right;\">\n",
       "      <th></th>\n",
       "      <th>Title</th>\n",
       "      <th>url</th>\n",
       "      <th>summary</th>\n",
       "    </tr>\n",
       "  </thead>\n",
       "  <tbody>\n",
       "    <tr>\n",
       "      <th>0</th>\n",
       "      <td>The Desert Trail (1935)</td>\n",
       "      <td>https://www.moviehousememories.com/the-desert-...</td>\n",
       "      <td>\\nWhen a shady rodeo promoter tries to swindle...</td>\n",
       "    </tr>\n",
       "    <tr>\n",
       "      <th>1</th>\n",
       "      <td>Austin Powers: International Man of Mystery (1...</td>\n",
       "      <td>https://www.moviehousememories.com/austin-powe...</td>\n",
       "      <td>\\nIn the 1960’s, Austin Powers is a hipster in...</td>\n",
       "    </tr>\n",
       "    <tr>\n",
       "      <th>2</th>\n",
       "      <td>Last Action Hero (1993)</td>\n",
       "      <td>https://www.moviehousememories.com/last-action...</td>\n",
       "      <td>\\nDanny Madigan is a lonely boy who has recent...</td>\n",
       "    </tr>\n",
       "    <tr>\n",
       "      <th>3</th>\n",
       "      <td>The Ice Pirates (1984)</td>\n",
       "      <td>https://www.moviehousememories.com/the-ice-pir...</td>\n",
       "      <td>\\nIn an alternate future, water is the most va...</td>\n",
       "    </tr>\n",
       "    <tr>\n",
       "      <th>4</th>\n",
       "      <td>The Haunted Mansion (2003)</td>\n",
       "      <td>https://www.moviehousememories.com/the-haunted...</td>\n",
       "      <td>\\nWhile on the way to a family vacation, real-...</td>\n",
       "    </tr>\n",
       "    <tr>\n",
       "      <th>5</th>\n",
       "      <td>The Rules of the Game (1939)</td>\n",
       "      <td>https://www.moviehousememories.com/the-rules-o...</td>\n",
       "      <td>\\nThe Rules of the Game takes place in pre-Wor...</td>\n",
       "    </tr>\n",
       "    <tr>\n",
       "      <th>6</th>\n",
       "      <td>Cherry 2000 (1987)</td>\n",
       "      <td>https://www.moviehousememories.com/cherry-2000...</td>\n",
       "      <td>\\nCherry 2000 takes place in the far off year ...</td>\n",
       "    </tr>\n",
       "    <tr>\n",
       "      <th>7</th>\n",
       "      <td>The Ruling Class (1972)</td>\n",
       "      <td>https://www.moviehousememories.com/the-ruling-...</td>\n",
       "      <td>\\nIn The Ruling Class, after a member of the H...</td>\n",
       "    </tr>\n",
       "    <tr>\n",
       "      <th>8</th>\n",
       "      <td>Jaws 2 (1978)</td>\n",
       "      <td>https://www.moviehousememories.com/jaws-2-1978...</td>\n",
       "      <td>\\nIt has been four years since the events of t...</td>\n",
       "    </tr>\n",
       "    <tr>\n",
       "      <th>9</th>\n",
       "      <td>Abominable (2019)</td>\n",
       "      <td>https://www.moviehousememories.com/abominable-...</td>\n",
       "      <td>\\nTeenager Yi lives in Shanghai with her mothe...</td>\n",
       "    </tr>\n",
       "  </tbody>\n",
       "</table>\n",
       "</div>"
      ],
      "text/plain": [
       "                                               Title  \\\n",
       "0                            The Desert Trail (1935)   \n",
       "1  Austin Powers: International Man of Mystery (1...   \n",
       "2                            Last Action Hero (1993)   \n",
       "3                             The Ice Pirates (1984)   \n",
       "4                         The Haunted Mansion (2003)   \n",
       "5                       The Rules of the Game (1939)   \n",
       "6                                 Cherry 2000 (1987)   \n",
       "7                            The Ruling Class (1972)   \n",
       "8                                      Jaws 2 (1978)   \n",
       "9                                  Abominable (2019)   \n",
       "\n",
       "                                                 url  \\\n",
       "0  https://www.moviehousememories.com/the-desert-...   \n",
       "1  https://www.moviehousememories.com/austin-powe...   \n",
       "2  https://www.moviehousememories.com/last-action...   \n",
       "3  https://www.moviehousememories.com/the-ice-pir...   \n",
       "4  https://www.moviehousememories.com/the-haunted...   \n",
       "5  https://www.moviehousememories.com/the-rules-o...   \n",
       "6  https://www.moviehousememories.com/cherry-2000...   \n",
       "7  https://www.moviehousememories.com/the-ruling-...   \n",
       "8  https://www.moviehousememories.com/jaws-2-1978...   \n",
       "9  https://www.moviehousememories.com/abominable-...   \n",
       "\n",
       "                                             summary  \n",
       "0  \\nWhen a shady rodeo promoter tries to swindle...  \n",
       "1  \\nIn the 1960’s, Austin Powers is a hipster in...  \n",
       "2  \\nDanny Madigan is a lonely boy who has recent...  \n",
       "3  \\nIn an alternate future, water is the most va...  \n",
       "4  \\nWhile on the way to a family vacation, real-...  \n",
       "5  \\nThe Rules of the Game takes place in pre-Wor...  \n",
       "6  \\nCherry 2000 takes place in the far off year ...  \n",
       "7  \\nIn The Ruling Class, after a member of the H...  \n",
       "8  \\nIt has been four years since the events of t...  \n",
       "9  \\nTeenager Yi lives in Shanghai with her mothe...  "
      ]
     },
     "execution_count": 6,
     "metadata": {},
     "output_type": "execute_result"
    }
   ],
   "source": [
    "movies_dataset.head(10)"
   ]
  },
  {
   "cell_type": "markdown",
   "metadata": {},
   "source": [
    "As you can see, scraping is a really interesting way of enrich and also creating new data that can be used for, for example, descriptive or predictive analytics"
   ]
  }
 ],
 "metadata": {
  "kernelspec": {
   "display_name": "Python 3",
   "language": "python",
   "name": "python3"
  },
  "language_info": {
   "codemirror_mode": {
    "name": "ipython",
    "version": 3
   },
   "file_extension": ".py",
   "mimetype": "text/x-python",
   "name": "python",
   "nbconvert_exporter": "python",
   "pygments_lexer": "ipython3",
   "version": "3.7.3"
  }
 },
 "nbformat": 4,
 "nbformat_minor": 2
}
